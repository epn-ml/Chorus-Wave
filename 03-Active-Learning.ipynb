{
 "cells": [
  {
   "cell_type": "code",
   "execution_count": 4,
   "id": "d41c6ce6",
   "metadata": {},
   "outputs": [],
   "source": [
    "from models import *\n",
    "from strategies import *\n",
    "from datasets import *\n",
    "import numpy as np\n",
    "\n",
    "import tqdm\n",
    "import pytorch_lightning as pl\n",
    "import segmentation_models_pytorch as smp\n",
    "import os\n",
    "import torch\n",
    "import torch.nn as nn\n",
    "\n",
    "from PIL import Image\n",
    "import torchvision.transforms as T\n",
    "import torchvision.transforms.functional as TF\n",
    "from torch.utils.data import Dataset"
   ]
  },
  {
   "cell_type": "code",
   "execution_count": 5,
   "id": "0780622c",
   "metadata": {},
   "outputs": [],
   "source": [
    "params = {'n_epoch': 50, \n",
    "               'train_args':{'batch_size': 1, 'num_workers': 0},\n",
    "               'test_args':{'batch_size': 1, 'num_workers': 0},\n",
    "               'optimizer_args':{'lr': 0.00005, 'momentum': 0.5}}"
   ]
  },
  {
   "cell_type": "code",
   "execution_count": 6,
   "id": "311a1574",
   "metadata": {},
   "outputs": [],
   "source": [
    "def get_chorus_data(handler):\n",
    "    raw_train = Chorus_dataset(\"processed/\", split='train', init=True, transform=True)\n",
    "    raw_test = Chorus_dataset(\"processed/\", split='test', init=True, transform=True)\n",
    "    return Data(raw_train.images, raw_train.labels, raw_test.images, raw_test.labels, handler)\n"
   ]
  },
  {
   "cell_type": "code",
   "execution_count": 7,
   "id": "6720b8f0",
   "metadata": {},
   "outputs": [],
   "source": [
    "\n",
    "model = smp.create_model(\n",
    "            'FPN', encoder_name='resnet34', in_channels=3, classes = 1\n",
    "        )\n",
    "net = Net(model, params, device = torch.device(\"cuda:0\"))\n",
    "data = get_chorus_data(Handler)\n",
    "data.initialize_labels(5)\n",
    "\n"
   ]
  },
  {
   "cell_type": "markdown",
   "id": "36f71ae3",
   "metadata": {},
   "source": [
    "### Choose an AL strategy from a)RandomSampling b)MarginSampling c)EntropySampling d)KCenterGreedy e)AdversarialBIM"
   ]
  },
  {
   "cell_type": "code",
   "execution_count": 8,
   "id": "cc499e23",
   "metadata": {},
   "outputs": [],
   "source": [
    "strategy = MarginSampling(data, net)\n"
   ]
  },
  {
   "cell_type": "code",
   "execution_count": null,
   "id": "c2762ef9",
   "metadata": {},
   "outputs": [
    {
     "name": "stdout",
     "output_type": "stream",
     "text": [
      "Round 0\n"
     ]
    },
    {
     "name": "stderr",
     "output_type": "stream",
     "text": [
      " 98%|█████████████████████████████████████████████████████████████▋ | 49/50 [00:30<00:00,  1.69it/s]"
     ]
    }
   ],
   "source": [
    "print(\"Round 0\")\n",
    "strategy.train()\n",
    "logits, mask_gt = strategy.predict(data.get_test_data())\n",
    "print(f\"Round 0 testing metrics: {data.cal_test_metrics(logits, mask_gt )}\")\n",
    "\n",
    "for rd in range(1, 13):\n",
    "    print(f\"Round {rd}\")\n",
    "\n",
    "    # query\n",
    "    query_idxs = strategy.query(5)\n",
    "\n",
    "    # update labels\n",
    "    strategy.update(query_idxs)\n",
    "    strategy.train()\n",
    "\n",
    "    # calculate accuracy\n",
    "    logits, maks_gt = strategy.predict(data.get_test_data())\n",
    "    print(f\"Round {rd} testing metrics: {data.cal_test_metrics(logits, mask_gt)}\")"
   ]
  },
  {
   "cell_type": "code",
   "execution_count": null,
   "id": "b97b9231",
   "metadata": {},
   "outputs": [],
   "source": []
  },
  {
   "cell_type": "code",
   "execution_count": null,
   "id": "62c7703b",
   "metadata": {},
   "outputs": [],
   "source": []
  }
 ],
 "metadata": {
  "kernelspec": {
   "display_name": "Python [conda env:segment_anything] *",
   "language": "python",
   "name": "conda-env-segment_anything-py"
  },
  "language_info": {
   "codemirror_mode": {
    "name": "ipython",
    "version": 3
   },
   "file_extension": ".py",
   "mimetype": "text/x-python",
   "name": "python",
   "nbconvert_exporter": "python",
   "pygments_lexer": "ipython3",
   "version": "3.11.3"
  }
 },
 "nbformat": 4,
 "nbformat_minor": 5
}
