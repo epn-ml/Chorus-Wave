{
 "cells": [
  {
   "cell_type": "code",
   "execution_count": 1,
   "id": "d41c6ce6",
   "metadata": {},
   "outputs": [],
   "source": [
    "from models import *\n",
    "from strategies import *\n",
    "from datasets import *\n",
    "import numpy as np\n",
    "\n",
    "import tqdm\n",
    "import pytorch_lightning as pl\n",
    "import segmentation_models_pytorch as smp\n",
    "import os\n",
    "import torch\n",
    "import torch.nn as nn\n",
    "\n",
    "from PIL import Image\n",
    "import torchvision.transforms as T\n",
    "import torchvision.transforms.functional as TF\n",
    "from torch.utils.data import Dataset"
   ]
  },
  {
   "cell_type": "code",
   "execution_count": 2,
   "id": "0780622c",
   "metadata": {},
   "outputs": [],
   "source": [
    "params = {'n_epoch': 50, \n",
    "               'train_args':{'batch_size': 1, 'num_workers': 0},\n",
    "               'test_args':{'batch_size': 1, 'num_workers': 0},\n",
    "               'optimizer_args':{'lr': 0.00005, 'momentum': 0.5}}"
   ]
  },
  {
   "cell_type": "code",
   "execution_count": 3,
   "id": "311a1574",
   "metadata": {},
   "outputs": [],
   "source": [
    "def get_chorus_data(handler):\n",
    "    raw_train = Chorus_dataset(\"processed/\", split='train', init=True, transform=True)\n",
    "    raw_test = Chorus_dataset(\"processed/\", split='test', init=True, transform=True)\n",
    "    return Data(raw_train.images, raw_train.labels, raw_test.images, raw_test.labels, handler)\n"
   ]
  },
  {
   "cell_type": "code",
   "execution_count": 4,
   "id": "6720b8f0",
   "metadata": {},
   "outputs": [],
   "source": [
    "\n",
    "model = smp.create_model(\n",
    "            'FPN', encoder_name='resnet34', in_channels=3, classes = 1\n",
    "        )\n",
    "net = Net(model, params, device = torch.device(\"cuda:0\"))\n",
    "data = get_chorus_data(Handler)\n",
    "data.initialize_labels(5)\n",
    "\n"
   ]
  },
  {
   "cell_type": "markdown",
   "id": "36f71ae3",
   "metadata": {},
   "source": [
    "### Choose an AL strategy from a)RandomSampling b)MarginSampling c)EntropySampling d)KCenterGreedy e)AdversarialBIM"
   ]
  },
  {
   "cell_type": "code",
   "execution_count": 5,
   "id": "cc499e23",
   "metadata": {},
   "outputs": [],
   "source": [
    "strategy = RandomSampling(data, net)\n"
   ]
  },
  {
   "cell_type": "code",
   "execution_count": 6,
   "id": "79169b74",
   "metadata": {},
   "outputs": [
    {
     "name": "stdout",
     "output_type": "stream",
     "text": [
      "Round 0\n"
     ]
    },
    {
     "name": "stderr",
     "output_type": "stream",
     "text": [
      "100%|███████████████████████████████████████████████████████████████| 50/50 [00:31<00:00,  1.60it/s]\n"
     ]
    },
    {
     "name": "stdout",
     "output_type": "stream",
     "text": [
      "Round 0 testing metrics: (tensor(0.0754), tensor(0.1402))\n",
      "Round 1\n"
     ]
    },
    {
     "name": "stderr",
     "output_type": "stream",
     "text": [
      "100%|███████████████████████████████████████████████████████████████| 50/50 [01:02<00:00,  1.24s/it]\n"
     ]
    },
    {
     "name": "stdout",
     "output_type": "stream",
     "text": [
      "Round 1 testing metrics: (tensor(0.0831), tensor(0.1534))\n",
      "Round 2\n"
     ]
    },
    {
     "name": "stderr",
     "output_type": "stream",
     "text": [
      "100%|███████████████████████████████████████████████████████████████| 50/50 [01:33<00:00,  1.88s/it]\n"
     ]
    },
    {
     "name": "stdout",
     "output_type": "stream",
     "text": [
      "Round 2 testing metrics: (tensor(0.1307), tensor(0.2312))\n",
      "Round 3\n"
     ]
    },
    {
     "name": "stderr",
     "output_type": "stream",
     "text": [
      "100%|███████████████████████████████████████████████████████████████| 50/50 [01:58<00:00,  2.37s/it]\n"
     ]
    },
    {
     "name": "stdout",
     "output_type": "stream",
     "text": [
      "Round 3 testing metrics: (tensor(0.3048), tensor(0.4672))\n",
      "Round 4\n"
     ]
    },
    {
     "name": "stderr",
     "output_type": "stream",
     "text": [
      "100%|███████████████████████████████████████████████████████████████| 50/50 [02:30<00:00,  3.01s/it]\n"
     ]
    },
    {
     "name": "stdout",
     "output_type": "stream",
     "text": [
      "Round 4 testing metrics: (tensor(0.4316), tensor(0.6029))\n",
      "Round 5\n"
     ]
    },
    {
     "name": "stderr",
     "output_type": "stream",
     "text": [
      "100%|███████████████████████████████████████████████████████████████| 50/50 [02:57<00:00,  3.56s/it]\n"
     ]
    },
    {
     "name": "stdout",
     "output_type": "stream",
     "text": [
      "Round 5 testing metrics: (tensor(0.4937), tensor(0.6610))\n",
      "Round 6\n"
     ]
    },
    {
     "name": "stderr",
     "output_type": "stream",
     "text": [
      "100%|███████████████████████████████████████████████████████████████| 50/50 [03:34<00:00,  4.30s/it]\n"
     ]
    },
    {
     "name": "stdout",
     "output_type": "stream",
     "text": [
      "Round 6 testing metrics: (tensor(0.5196), tensor(0.6838))\n",
      "Round 7\n"
     ]
    },
    {
     "name": "stderr",
     "output_type": "stream",
     "text": [
      "100%|███████████████████████████████████████████████████████████████| 50/50 [03:55<00:00,  4.70s/it]\n"
     ]
    },
    {
     "name": "stdout",
     "output_type": "stream",
     "text": [
      "Round 7 testing metrics: (tensor(0.5219), tensor(0.6858))\n",
      "Round 8\n"
     ]
    },
    {
     "name": "stderr",
     "output_type": "stream",
     "text": [
      "100%|███████████████████████████████████████████████████████████████| 50/50 [04:30<00:00,  5.41s/it]\n"
     ]
    },
    {
     "name": "stdout",
     "output_type": "stream",
     "text": [
      "Round 8 testing metrics: (tensor(0.5389), tensor(0.7004))\n",
      "Round 9\n"
     ]
    },
    {
     "name": "stderr",
     "output_type": "stream",
     "text": [
      "100%|███████████████████████████████████████████████████████████████| 50/50 [04:56<00:00,  5.93s/it]\n"
     ]
    },
    {
     "name": "stdout",
     "output_type": "stream",
     "text": [
      "Round 9 testing metrics: (tensor(0.5383), tensor(0.6999))\n",
      "Round 10\n"
     ]
    },
    {
     "name": "stderr",
     "output_type": "stream",
     "text": [
      "100%|███████████████████████████████████████████████████████████████| 50/50 [05:23<00:00,  6.46s/it]\n"
     ]
    },
    {
     "name": "stdout",
     "output_type": "stream",
     "text": [
      "Round 10 testing metrics: (tensor(0.5549), tensor(0.7138))\n",
      "Round 11\n"
     ]
    },
    {
     "name": "stderr",
     "output_type": "stream",
     "text": [
      "100%|███████████████████████████████████████████████████████████████| 50/50 [05:49<00:00,  7.00s/it]\n"
     ]
    },
    {
     "name": "stdout",
     "output_type": "stream",
     "text": [
      "Round 11 testing metrics: (tensor(0.5493), tensor(0.7091))\n",
      "Round 12\n"
     ]
    },
    {
     "name": "stderr",
     "output_type": "stream",
     "text": [
      "100%|███████████████████████████████████████████████████████████████| 50/50 [06:20<00:00,  7.61s/it]\n"
     ]
    },
    {
     "name": "stdout",
     "output_type": "stream",
     "text": [
      "Round 12 testing metrics: (tensor(0.5509), tensor(0.7104))\n"
     ]
    }
   ],
   "source": [
    "print(\"Round 0\")\n",
    "strategy.train()\n",
    "logits, mask_gt = strategy.predict(data.get_test_data())\n",
    "print(f\"Round 0 testing metrics: {data.cal_test_metrics(logits, mask_gt )}\")\n",
    "\n",
    "for rd in range(1, 13):\n",
    "    print(f\"Round {rd}\")\n",
    "\n",
    "    # query\n",
    "    query_idxs = strategy.query(5)\n",
    "\n",
    "    # update labels\n",
    "    strategy.update(query_idxs)\n",
    "    strategy.train()\n",
    "\n",
    "    # calculate accuracy\n",
    "    logits, maks_gt = strategy.predict(data.get_test_data())\n",
    "    print(f\"Round {rd} testing metrics: {data.cal_test_metrics(logits, mask_gt)}\")"
   ]
  },
  {
   "cell_type": "code",
   "execution_count": 6,
   "id": "c2762ef9",
   "metadata": {},
   "outputs": [
    {
     "name": "stdout",
     "output_type": "stream",
     "text": [
      "Round 0\n"
     ]
    },
    {
     "name": "stderr",
     "output_type": "stream",
     "text": [
      "100%|███████████████████████████████████████████████████████████████| 50/50 [00:33<00:00,  1.48it/s]\n"
     ]
    },
    {
     "name": "stdout",
     "output_type": "stream",
     "text": [
      "Round 0 testing metrics: (tensor(0.0733), tensor(0.1365))\n",
      "Round 1\n"
     ]
    },
    {
     "name": "stderr",
     "output_type": "stream",
     "text": [
      "100%|███████████████████████████████████████████████████████████████| 50/50 [01:04<00:00,  1.29s/it]\n"
     ]
    },
    {
     "name": "stdout",
     "output_type": "stream",
     "text": [
      "Round 1 testing metrics: (tensor(0.0751), tensor(0.1397))\n",
      "Round 2\n"
     ]
    },
    {
     "name": "stderr",
     "output_type": "stream",
     "text": [
      "100%|███████████████████████████████████████████████████████████████| 50/50 [01:32<00:00,  1.85s/it]\n"
     ]
    },
    {
     "name": "stdout",
     "output_type": "stream",
     "text": [
      "Round 2 testing metrics: (tensor(0.0872), tensor(0.1603))\n",
      "Round 3\n"
     ]
    },
    {
     "name": "stderr",
     "output_type": "stream",
     "text": [
      "100%|███████████████████████████████████████████████████████████████| 50/50 [02:00<00:00,  2.40s/it]\n"
     ]
    },
    {
     "name": "stdout",
     "output_type": "stream",
     "text": [
      "Round 3 testing metrics: (tensor(0.2186), tensor(0.3588))\n",
      "Round 4\n"
     ]
    },
    {
     "name": "stderr",
     "output_type": "stream",
     "text": [
      "100%|███████████████████████████████████████████████████████████████| 50/50 [02:28<00:00,  2.98s/it]\n"
     ]
    },
    {
     "name": "stdout",
     "output_type": "stream",
     "text": [
      "Round 4 testing metrics: (tensor(0.3041), tensor(0.4663))\n",
      "Round 5\n"
     ]
    },
    {
     "name": "stderr",
     "output_type": "stream",
     "text": [
      "100%|███████████████████████████████████████████████████████████████| 50/50 [03:05<00:00,  3.71s/it]\n"
     ]
    },
    {
     "name": "stdout",
     "output_type": "stream",
     "text": [
      "Round 5 testing metrics: (tensor(0.3738), tensor(0.5442))\n",
      "Round 6\n"
     ]
    },
    {
     "name": "stderr",
     "output_type": "stream",
     "text": [
      "100%|███████████████████████████████████████████████████████████████| 50/50 [03:38<00:00,  4.37s/it]\n"
     ]
    },
    {
     "name": "stdout",
     "output_type": "stream",
     "text": [
      "Round 6 testing metrics: (tensor(0.4474), tensor(0.6182))\n",
      "Round 7\n"
     ]
    },
    {
     "name": "stderr",
     "output_type": "stream",
     "text": [
      "100%|███████████████████████████████████████████████████████████████| 50/50 [04:04<00:00,  4.90s/it]\n"
     ]
    },
    {
     "name": "stdout",
     "output_type": "stream",
     "text": [
      "Round 7 testing metrics: (tensor(0.4685), tensor(0.6380))\n",
      "Round 8\n"
     ]
    },
    {
     "name": "stderr",
     "output_type": "stream",
     "text": [
      "100%|███████████████████████████████████████████████████████████████| 50/50 [04:26<00:00,  5.32s/it]\n"
     ]
    },
    {
     "name": "stdout",
     "output_type": "stream",
     "text": [
      "Round 8 testing metrics: (tensor(0.4881), tensor(0.6560))\n",
      "Round 9\n"
     ]
    },
    {
     "name": "stderr",
     "output_type": "stream",
     "text": [
      "100%|███████████████████████████████████████████████████████████████| 50/50 [04:58<00:00,  5.97s/it]\n"
     ]
    },
    {
     "name": "stdout",
     "output_type": "stream",
     "text": [
      "Round 9 testing metrics: (tensor(0.5062), tensor(0.6721))\n",
      "Round 10\n"
     ]
    },
    {
     "name": "stderr",
     "output_type": "stream",
     "text": [
      "100%|███████████████████████████████████████████████████████████████| 50/50 [05:27<00:00,  6.56s/it]\n"
     ]
    },
    {
     "name": "stdout",
     "output_type": "stream",
     "text": [
      "Round 10 testing metrics: (tensor(0.5007), tensor(0.6673))\n",
      "Round 11\n"
     ]
    },
    {
     "name": "stderr",
     "output_type": "stream",
     "text": [
      "100%|███████████████████████████████████████████████████████████████| 50/50 [06:00<00:00,  7.22s/it]\n"
     ]
    },
    {
     "name": "stdout",
     "output_type": "stream",
     "text": [
      "Round 11 testing metrics: (tensor(0.5054), tensor(0.6714))\n",
      "Round 12\n"
     ]
    },
    {
     "name": "stderr",
     "output_type": "stream",
     "text": [
      "100%|███████████████████████████████████████████████████████████████| 50/50 [06:18<00:00,  7.58s/it]\n"
     ]
    },
    {
     "name": "stdout",
     "output_type": "stream",
     "text": [
      "Round 12 testing metrics: (tensor(0.5203), tensor(0.6845))\n"
     ]
    }
   ],
   "source": [
    "\n",
    "#Margin Sampling\n",
    "print(\"Round 0\")\n",
    "strategy.train()\n",
    "logits, mask_gt = strategy.predict(data.get_test_data())\n",
    "print(f\"Round 0 testing metrics: {data.cal_test_metrics(logits, mask_gt )}\")\n",
    "\n",
    "for rd in range(1, 13):\n",
    "    print(f\"Round {rd}\")\n",
    "\n",
    "    # query\n",
    "    query_idxs = strategy.query(5)\n",
    "\n",
    "    # update labels\n",
    "    strategy.update(query_idxs)\n",
    "    strategy.train()\n",
    "\n",
    "    # calculate accuracy\n",
    "    logits, maks_gt = strategy.predict(data.get_test_data())\n",
    "    print(f\"Round {rd} testing metrics: {data.cal_test_metrics(logits, mask_gt)}\")"
   ]
  },
  {
   "cell_type": "code",
   "execution_count": null,
   "id": "b97b9231",
   "metadata": {},
   "outputs": [],
   "source": []
  },
  {
   "cell_type": "code",
   "execution_count": null,
   "id": "62c7703b",
   "metadata": {},
   "outputs": [],
   "source": []
  }
 ],
 "metadata": {
  "kernelspec": {
   "display_name": "Python [conda env:segment_anything] *",
   "language": "python",
   "name": "conda-env-segment_anything-py"
  },
  "language_info": {
   "codemirror_mode": {
    "name": "ipython",
    "version": 3
   },
   "file_extension": ".py",
   "mimetype": "text/x-python",
   "name": "python",
   "nbconvert_exporter": "python",
   "pygments_lexer": "ipython3",
   "version": "3.11.3"
  }
 },
 "nbformat": 4,
 "nbformat_minor": 5
}
