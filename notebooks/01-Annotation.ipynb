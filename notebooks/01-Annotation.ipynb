{
 "cells": [
  {
   "cell_type": "code",
   "execution_count": 84,
   "metadata": {
    "pycharm": {
     "is_executing": true,
     "name": "#%%\n"
    }
   },
   "outputs": [],
   "source": [
    "# #!/usr/bin/env python\n",
    "\n",
    "# \"\"\"Notebook for rapid prompt-based annotation. Box to mask using Segment Anything Model\"\"\"\n",
    "\n",
    "# __author__      = \"Sahib Julka <sahib.julka@uni-passau.de>\"\n",
    "# __copyright__   = \"GPL\"\n"
   ]
  },
  {
   "cell_type": "code",
   "execution_count": 85,
   "metadata": {
    "pycharm": {
     "name": "#%%\n"
    }
   },
   "outputs": [],
   "source": [
    "import torch\n",
    "import os\n",
    "import pickle\n",
    "import numpy as np\n",
    "import matplotlib.pyplot as plt\n",
    "from segment_anything import sam_model_registry, SamAutomaticMaskGenerator, SamPredictor\n",
    "from utils import encode_image\n",
    "from jupyter_bbox_widget import BBoxWidget\n"
   ]
  },
  {
   "cell_type": "code",
   "execution_count": 86,
   "metadata": {
    "pycharm": {
     "name": "#%%\n"
    }
   },
   "outputs": [],
   "source": [
    "DEVICE = torch.device(\"cuda:4\" if torch.cuda.is_available() else \"cpu\")\n",
    "MODEL_TYPE = \"vit_h\"\n",
    "CHECKPOINT_PATH = os.path.join(\"sam\",\"sam_vit_h_4b8939.pth\")"
   ]
  },
  {
   "cell_type": "code",
   "execution_count": 87,
   "metadata": {
    "pycharm": {
     "name": "#%%\n"
    }
   },
   "outputs": [],
   "source": [
    "sam = sam_model_registry[MODEL_TYPE](checkpoint=CHECKPOINT_PATH).to(device=DEVICE)\n",
    "mask_predictor = SamPredictor(sam)"
   ]
  },
  {
   "cell_type": "code",
   "execution_count": 341,
   "metadata": {
    "pycharm": {
     "name": "#%%\n"
    }
   },
   "outputs": [],
   "source": [
    "DATA_PATH = 'processed/images'\n",
    "IMAGES = []\n",
    "filenames = []\n",
    "for fn in os.listdir(DATA_PATH):\n",
    "    if fn.endswith('chorus1_psd.png'):\n",
    "        filenames.append(fn)\n",
    "        IMAGES.append(os.path.join(DATA_PATH, fn))\n",
    "        \n",
    "        #widget.image = encode_image(IMAGE_PATH)"
   ]
  },
  {
   "cell_type": "code",
   "execution_count": 370,
   "metadata": {
    "pycharm": {
     "name": "#%%\n"
    },
    "scrolled": false
   },
   "outputs": [
    {
     "data": {
      "application/vnd.jupyter.widget-view+json": {
       "model_id": "dec30e7d935e4bf9bf4b68cc8877d40b",
       "version_major": 2,
       "version_minor": 0
      },
      "text/plain": [
       "BBoxWidget(colors=['#1f77b4', '#ff7f0e', '#2ca02c', '#d62728', '#9467bd', '#8c564b', '#e377c2', '#7f7f7f', '#b…"
      ]
     },
     "execution_count": 370,
     "metadata": {},
     "output_type": "execute_result"
    }
   ],
   "source": [
    "i = np.random.randint(1, len(filenames))\n",
    "widget = BBoxWidget()\n",
    "widget.image = encode_image(IMAGES[i])\n",
    "widget"
   ]
  },
  {
   "cell_type": "code",
   "execution_count": 360,
   "metadata": {
    "pycharm": {
     "name": "#%%\n"
    }
   },
   "outputs": [
    {
     "data": {
      "text/plain": [
       "[{'x': 22, 'y': 162, 'width': 78, 'height': 175, 'label': ''},\n",
       " {'x': 132, 'y': 206, 'width': 111, 'height': 131, 'label': ''},\n",
       " {'x': 281, 'y': 182, 'width': 153, 'height': 157, 'label': ''},\n",
       " {'x': 468, 'y': 184, 'width': 112, 'height': 125, 'label': ''},\n",
       " {'x': 602, 'y': 166, 'width': 201, 'height': 161, 'label': ''},\n",
       " {'x': 835, 'y': 176, 'width': 246, 'height': 155, 'label': ''},\n",
       " {'x': 1129, 'y': 170, 'width': 114, 'height': 153, 'label': ''},\n",
       " {'x': 1312, 'y': 174, 'width': 56, 'height': 169, 'label': ''},\n",
       " {'x': 1386, 'y': 180, 'width': 30, 'height': 105, 'label': ''},\n",
       " {'x': 1428, 'y': 164, 'width': 34, 'height': 149, 'label': ''},\n",
       " {'x': 1523, 'y': 150, 'width': 393, 'height': 169, 'label': ''},\n",
       " {'x': 1482, 'y': 235, 'width': 25, 'height': 88, 'label': ''},\n",
       " {'x': 1269, 'y': 273, 'width': 25, 'height': 78, 'label': ''},\n",
       " {'x': 1271, 'y': 182, 'width': 27, 'height': 53, 'label': ''},\n",
       " {'x': 1490, 'y': 162, 'width': 25, 'height': 40, 'label': ''}]"
      ]
     },
     "execution_count": 360,
     "metadata": {},
     "output_type": "execute_result"
    }
   ],
   "source": [
    "widget.bboxes"
   ]
  },
  {
   "cell_type": "code",
   "execution_count": 372,
   "metadata": {
    "pycharm": {
     "name": "#%%\n"
    }
   },
   "outputs": [],
   "source": [
    "import numpy as np\n",
    "\n",
    "# default_box is going to be used if you will not draw any box on image above\n",
    "default_box = {'x': 68, 'y': 247, 'width': 555, 'height': 678, 'label': ''}\n",
    "boxes = []\n",
    "#box = widget.bboxes[0] if widget.bboxes else default_box\n",
    "for box in widget.bboxes:\n",
    "    box = np.array([\n",
    "        box['x'], \n",
    "        box['y'], \n",
    "        box['x'] + box['width'], \n",
    "        box['y'] + box['height']\n",
    "    ])\n",
    "    boxes.append(box)"
   ]
  },
  {
   "cell_type": "code",
   "execution_count": 373,
   "metadata": {
    "pycharm": {
     "name": "#%%\n"
    }
   },
   "outputs": [],
   "source": [
    "boxes = np.array(boxes)\n"
   ]
  },
  {
   "cell_type": "code",
   "execution_count": 374,
   "metadata": {
    "pycharm": {
     "name": "#%%\n"
    }
   },
   "outputs": [
    {
     "ename": "RuntimeError",
     "evalue": "cannot reshape tensor of 0 elements into shape [0, -1, 256, 256] because the unspecified dimension size -1 can be any value and is ambiguous",
     "output_type": "error",
     "traceback": [
      "\u001b[0;31m---------------------------------------------------------------------------\u001b[0m",
      "\u001b[0;31mRuntimeError\u001b[0m                              Traceback (most recent call last)",
      "Cell \u001b[0;32mIn[374], line 14\u001b[0m\n\u001b[1;32m     10\u001b[0m mask_predictor\u001b[38;5;241m.\u001b[39mset_image(image_rgb)\n\u001b[1;32m     11\u001b[0m transformed_boxes \u001b[38;5;241m=\u001b[39m mask_predictor\u001b[38;5;241m.\u001b[39mtransform\u001b[38;5;241m.\u001b[39mapply_boxes_torch(boxes, image_rgb\u001b[38;5;241m.\u001b[39mshape[:\u001b[38;5;241m2\u001b[39m])\n\u001b[0;32m---> 14\u001b[0m masks, scores, logits \u001b[38;5;241m=\u001b[39m mask_predictor\u001b[38;5;241m.\u001b[39mpredict_torch(\n\u001b[1;32m     15\u001b[0m     point_coords \u001b[38;5;241m=\u001b[39m \u001b[38;5;28;01mNone\u001b[39;00m,\n\u001b[1;32m     16\u001b[0m     point_labels \u001b[38;5;241m=\u001b[39m \u001b[38;5;28;01mNone\u001b[39;00m,\n\u001b[1;32m     17\u001b[0m     boxes\u001b[38;5;241m=\u001b[39mtransformed_boxes,\n\u001b[1;32m     18\u001b[0m     multimask_output\u001b[38;5;241m=\u001b[39m\u001b[38;5;28;01mFalse\u001b[39;00m\n\u001b[1;32m     19\u001b[0m )\n\u001b[1;32m     20\u001b[0m mask \u001b[38;5;241m=\u001b[39m masks\u001b[38;5;241m.\u001b[39msum(axis \u001b[38;5;241m=\u001b[39m \u001b[38;5;241m0\u001b[39m)\u001b[38;5;241m.\u001b[39mcpu()\u001b[38;5;241m.\u001b[39mnumpy()\n",
      "File \u001b[0;32m/opt/conda/envs/segment_anything/lib/python3.11/site-packages/torch/utils/_contextlib.py:115\u001b[0m, in \u001b[0;36mcontext_decorator.<locals>.decorate_context\u001b[0;34m(*args, **kwargs)\u001b[0m\n\u001b[1;32m    112\u001b[0m \u001b[38;5;129m@functools\u001b[39m\u001b[38;5;241m.\u001b[39mwraps(func)\n\u001b[1;32m    113\u001b[0m \u001b[38;5;28;01mdef\u001b[39;00m \u001b[38;5;21mdecorate_context\u001b[39m(\u001b[38;5;241m*\u001b[39margs, \u001b[38;5;241m*\u001b[39m\u001b[38;5;241m*\u001b[39mkwargs):\n\u001b[1;32m    114\u001b[0m     \u001b[38;5;28;01mwith\u001b[39;00m ctx_factory():\n\u001b[0;32m--> 115\u001b[0m         \u001b[38;5;28;01mreturn\u001b[39;00m func(\u001b[38;5;241m*\u001b[39margs, \u001b[38;5;241m*\u001b[39m\u001b[38;5;241m*\u001b[39mkwargs)\n",
      "File \u001b[0;32m/opt/conda/envs/segment_anything/lib/python3.11/site-packages/segment_anything/predictor.py:229\u001b[0m, in \u001b[0;36mSamPredictor.predict_torch\u001b[0;34m(self, point_coords, point_labels, boxes, mask_input, multimask_output, return_logits)\u001b[0m\n\u001b[1;32m    222\u001b[0m sparse_embeddings, dense_embeddings \u001b[38;5;241m=\u001b[39m \u001b[38;5;28mself\u001b[39m\u001b[38;5;241m.\u001b[39mmodel\u001b[38;5;241m.\u001b[39mprompt_encoder(\n\u001b[1;32m    223\u001b[0m     points\u001b[38;5;241m=\u001b[39mpoints,\n\u001b[1;32m    224\u001b[0m     boxes\u001b[38;5;241m=\u001b[39mboxes,\n\u001b[1;32m    225\u001b[0m     masks\u001b[38;5;241m=\u001b[39mmask_input,\n\u001b[1;32m    226\u001b[0m )\n\u001b[1;32m    228\u001b[0m \u001b[38;5;66;03m# Predict masks\u001b[39;00m\n\u001b[0;32m--> 229\u001b[0m low_res_masks, iou_predictions \u001b[38;5;241m=\u001b[39m \u001b[38;5;28mself\u001b[39m\u001b[38;5;241m.\u001b[39mmodel\u001b[38;5;241m.\u001b[39mmask_decoder(\n\u001b[1;32m    230\u001b[0m     image_embeddings\u001b[38;5;241m=\u001b[39m\u001b[38;5;28mself\u001b[39m\u001b[38;5;241m.\u001b[39mfeatures,\n\u001b[1;32m    231\u001b[0m     image_pe\u001b[38;5;241m=\u001b[39m\u001b[38;5;28mself\u001b[39m\u001b[38;5;241m.\u001b[39mmodel\u001b[38;5;241m.\u001b[39mprompt_encoder\u001b[38;5;241m.\u001b[39mget_dense_pe(),\n\u001b[1;32m    232\u001b[0m     sparse_prompt_embeddings\u001b[38;5;241m=\u001b[39msparse_embeddings,\n\u001b[1;32m    233\u001b[0m     dense_prompt_embeddings\u001b[38;5;241m=\u001b[39mdense_embeddings,\n\u001b[1;32m    234\u001b[0m     multimask_output\u001b[38;5;241m=\u001b[39mmultimask_output,\n\u001b[1;32m    235\u001b[0m )\n\u001b[1;32m    237\u001b[0m \u001b[38;5;66;03m# Upscale the masks to the original image resolution\u001b[39;00m\n\u001b[1;32m    238\u001b[0m masks \u001b[38;5;241m=\u001b[39m \u001b[38;5;28mself\u001b[39m\u001b[38;5;241m.\u001b[39mmodel\u001b[38;5;241m.\u001b[39mpostprocess_masks(low_res_masks, \u001b[38;5;28mself\u001b[39m\u001b[38;5;241m.\u001b[39minput_size, \u001b[38;5;28mself\u001b[39m\u001b[38;5;241m.\u001b[39moriginal_size)\n",
      "File \u001b[0;32m/opt/conda/envs/segment_anything/lib/python3.11/site-packages/torch/nn/modules/module.py:1501\u001b[0m, in \u001b[0;36mModule._call_impl\u001b[0;34m(self, *args, **kwargs)\u001b[0m\n\u001b[1;32m   1496\u001b[0m \u001b[38;5;66;03m# If we don't have any hooks, we want to skip the rest of the logic in\u001b[39;00m\n\u001b[1;32m   1497\u001b[0m \u001b[38;5;66;03m# this function, and just call forward.\u001b[39;00m\n\u001b[1;32m   1498\u001b[0m \u001b[38;5;28;01mif\u001b[39;00m \u001b[38;5;129;01mnot\u001b[39;00m (\u001b[38;5;28mself\u001b[39m\u001b[38;5;241m.\u001b[39m_backward_hooks \u001b[38;5;129;01mor\u001b[39;00m \u001b[38;5;28mself\u001b[39m\u001b[38;5;241m.\u001b[39m_backward_pre_hooks \u001b[38;5;129;01mor\u001b[39;00m \u001b[38;5;28mself\u001b[39m\u001b[38;5;241m.\u001b[39m_forward_hooks \u001b[38;5;129;01mor\u001b[39;00m \u001b[38;5;28mself\u001b[39m\u001b[38;5;241m.\u001b[39m_forward_pre_hooks\n\u001b[1;32m   1499\u001b[0m         \u001b[38;5;129;01mor\u001b[39;00m _global_backward_pre_hooks \u001b[38;5;129;01mor\u001b[39;00m _global_backward_hooks\n\u001b[1;32m   1500\u001b[0m         \u001b[38;5;129;01mor\u001b[39;00m _global_forward_hooks \u001b[38;5;129;01mor\u001b[39;00m _global_forward_pre_hooks):\n\u001b[0;32m-> 1501\u001b[0m     \u001b[38;5;28;01mreturn\u001b[39;00m forward_call(\u001b[38;5;241m*\u001b[39margs, \u001b[38;5;241m*\u001b[39m\u001b[38;5;241m*\u001b[39mkwargs)\n\u001b[1;32m   1502\u001b[0m \u001b[38;5;66;03m# Do not call functions when jit is used\u001b[39;00m\n\u001b[1;32m   1503\u001b[0m full_backward_hooks, non_full_backward_hooks \u001b[38;5;241m=\u001b[39m [], []\n",
      "File \u001b[0;32m/opt/conda/envs/segment_anything/lib/python3.11/site-packages/segment_anything/modeling/mask_decoder.py:94\u001b[0m, in \u001b[0;36mMaskDecoder.forward\u001b[0;34m(self, image_embeddings, image_pe, sparse_prompt_embeddings, dense_prompt_embeddings, multimask_output)\u001b[0m\n\u001b[1;32m     71\u001b[0m \u001b[38;5;28;01mdef\u001b[39;00m \u001b[38;5;21mforward\u001b[39m(\n\u001b[1;32m     72\u001b[0m     \u001b[38;5;28mself\u001b[39m,\n\u001b[1;32m     73\u001b[0m     image_embeddings: torch\u001b[38;5;241m.\u001b[39mTensor,\n\u001b[0;32m   (...)\u001b[0m\n\u001b[1;32m     77\u001b[0m     multimask_output: \u001b[38;5;28mbool\u001b[39m,\n\u001b[1;32m     78\u001b[0m ) \u001b[38;5;241m-\u001b[39m\u001b[38;5;241m>\u001b[39m Tuple[torch\u001b[38;5;241m.\u001b[39mTensor, torch\u001b[38;5;241m.\u001b[39mTensor]:\n\u001b[1;32m     79\u001b[0m     \u001b[38;5;124;03m\"\"\"\u001b[39;00m\n\u001b[1;32m     80\u001b[0m \u001b[38;5;124;03m    Predict masks given image and prompt embeddings.\u001b[39;00m\n\u001b[1;32m     81\u001b[0m \n\u001b[0;32m   (...)\u001b[0m\n\u001b[1;32m     92\u001b[0m \u001b[38;5;124;03m      torch.Tensor: batched predictions of mask quality\u001b[39;00m\n\u001b[1;32m     93\u001b[0m \u001b[38;5;124;03m    \"\"\"\u001b[39;00m\n\u001b[0;32m---> 94\u001b[0m     masks, iou_pred \u001b[38;5;241m=\u001b[39m \u001b[38;5;28mself\u001b[39m\u001b[38;5;241m.\u001b[39mpredict_masks(\n\u001b[1;32m     95\u001b[0m         image_embeddings\u001b[38;5;241m=\u001b[39mimage_embeddings,\n\u001b[1;32m     96\u001b[0m         image_pe\u001b[38;5;241m=\u001b[39mimage_pe,\n\u001b[1;32m     97\u001b[0m         sparse_prompt_embeddings\u001b[38;5;241m=\u001b[39msparse_prompt_embeddings,\n\u001b[1;32m     98\u001b[0m         dense_prompt_embeddings\u001b[38;5;241m=\u001b[39mdense_prompt_embeddings,\n\u001b[1;32m     99\u001b[0m     )\n\u001b[1;32m    101\u001b[0m     \u001b[38;5;66;03m# Select the correct mask or masks for output\u001b[39;00m\n\u001b[1;32m    102\u001b[0m     \u001b[38;5;28;01mif\u001b[39;00m multimask_output:\n",
      "File \u001b[0;32m/opt/conda/envs/segment_anything/lib/python3.11/site-packages/segment_anything/modeling/mask_decoder.py:144\u001b[0m, in \u001b[0;36mMaskDecoder.predict_masks\u001b[0;34m(self, image_embeddings, image_pe, sparse_prompt_embeddings, dense_prompt_embeddings)\u001b[0m\n\u001b[1;32m    142\u001b[0m hyper_in \u001b[38;5;241m=\u001b[39m torch\u001b[38;5;241m.\u001b[39mstack(hyper_in_list, dim\u001b[38;5;241m=\u001b[39m\u001b[38;5;241m1\u001b[39m)\n\u001b[1;32m    143\u001b[0m b, c, h, w \u001b[38;5;241m=\u001b[39m upscaled_embedding\u001b[38;5;241m.\u001b[39mshape\n\u001b[0;32m--> 144\u001b[0m masks \u001b[38;5;241m=\u001b[39m (hyper_in \u001b[38;5;241m@\u001b[39m upscaled_embedding\u001b[38;5;241m.\u001b[39mview(b, c, h \u001b[38;5;241m*\u001b[39m w))\u001b[38;5;241m.\u001b[39mview(b, \u001b[38;5;241m-\u001b[39m\u001b[38;5;241m1\u001b[39m, h, w)\n\u001b[1;32m    146\u001b[0m \u001b[38;5;66;03m# Generate mask quality predictions\u001b[39;00m\n\u001b[1;32m    147\u001b[0m iou_pred \u001b[38;5;241m=\u001b[39m \u001b[38;5;28mself\u001b[39m\u001b[38;5;241m.\u001b[39miou_prediction_head(iou_token_out)\n",
      "\u001b[0;31mRuntimeError\u001b[0m: cannot reshape tensor of 0 elements into shape [0, -1, 256, 256] because the unspecified dimension size -1 can be any value and is ambiguous"
     ]
    }
   ],
   "source": [
    "import cv2\n",
    "import numpy as np\n",
    "import supervision as sv\n",
    "\n",
    "\n",
    "boxes = torch.Tensor(boxes).to(DEVICE)\n",
    "image_bgr = cv2.imread(IMAGES[i])\n",
    "image_rgb = cv2.cvtColor(image_bgr, cv2.COLOR_BGR2RGB)\n",
    "\n",
    "mask_predictor.set_image(image_rgb)\n",
    "transformed_boxes = mask_predictor.transform.apply_boxes_torch(boxes, image_rgb.shape[:2])\n",
    "\n",
    "\n",
    "masks, scores, logits = mask_predictor.predict_torch(\n",
    "    point_coords = None,\n",
    "    point_labels = None,\n",
    "    boxes=transformed_boxes,\n",
    "    multimask_output=False\n",
    ")\n",
    "mask = masks.sum(axis = 0).cpu().numpy()"
   ]
  },
  {
   "cell_type": "code",
   "execution_count": null,
   "metadata": {
    "pycharm": {
     "name": "#%%\n"
    }
   },
   "outputs": [],
   "source": [
    "box_annotator = sv.BoxAnnotator(color=sv.Color.red())\n",
    "mask_annotator = sv.MaskAnnotator(color=sv.Color.red())\n",
    "\n",
    "detections = sv.Detections(\n",
    "    xyxy=sv.mask_to_xyxy(masks=mask),\n",
    "    mask=mask\n",
    ")\n",
    "detections = detections[detections.area == np.max(detections.area)]\n",
    "\n",
    "source_image = box_annotator.annotate(scene=image_bgr.copy(), detections=detections, skip_label=True)\n",
    "segmented_image = mask_annotator.annotate(scene=image_bgr.copy(), detections=detections)\n",
    "\n",
    "sv.plot_images_grid(\n",
    "    images=[source_image, segmented_image],\n",
    "    grid_size=(1, 2),\n",
    "    titles=['source image', 'segmented image']\n",
    ")"
   ]
  },
  {
   "cell_type": "code",
   "execution_count": 365,
   "metadata": {
    "pycharm": {
     "name": "#%%\n"
    }
   },
   "outputs": [
    {
     "data": {
      "image/png": "[encoded data removed]",
      "text/plain": [
       "<Figure size 1600x400 with 4 Axes>"
      ]
     },
     "metadata": {},
     "output_type": "display_data"
    }
   ],
   "source": [
    "import supervision as v\n",
    "\n",
    "sv.plot_images_grid(\n",
    "    images=mask,\n",
    "    grid_size=(1, 4),\n",
    "    size=(16, 4)\n",
    ")"
   ]
  },
  {
   "cell_type": "code",
   "execution_count": 366,
   "metadata": {
    "pycharm": {
     "name": "#%%\n"
    }
   },
   "outputs": [],
   "source": [
    "os.makedirs(\"processed/masks+/\", exist_ok = True)\n",
    "np.save('processed/masks+/{}.npy'.format(filenames[i].split('.png')[0]), mask)"
   ]
  },
  {
   "cell_type": "code",
   "execution_count": null,
   "metadata": {},
   "outputs": [],
   "source": []
  },
  {
   "cell_type": "code",
   "execution_count": null,
   "metadata": {},
   "outputs": [],
   "source": []
  }
 ],
 "metadata": {
  "kernelspec": {
   "display_name": "Python [conda env:segment_anything] *",
   "language": "python",
   "name": "conda-env-segment_anything-py"
  },
  "language_info": {
   "codemirror_mode": {
    "name": "ipython",
    "version": 3
   },
   "file_extension": ".py",
   "mimetype": "text/x-python",
   "name": "python",
   "nbconvert_exporter": "python",
   "pygments_lexer": "ipython3",
   "version": "3.11.3"
  }
 },
 "nbformat": 4,
 "nbformat_minor": 1
}
